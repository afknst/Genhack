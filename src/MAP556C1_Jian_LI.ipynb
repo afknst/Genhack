{
 "cells": [
  {
   "cell_type": "code",
   "execution_count": 1,
   "metadata": {
    "ExecuteTime": {
     "end_time": "2020-10-27T01:22:08.818496Z",
     "start_time": "2020-10-27T01:22:08.393122Z"
    }
   },
   "outputs": [],
   "source": [
    "import numpy as np\n",
    "import matplotlib.pyplot as plt\n",
    "from scipy.integrate import nquad\n",
    "from scipy.stats import norm\n",
    "from scipy.interpolate import interp1d"
   ]
  },
  {
   "cell_type": "code",
   "execution_count": 2,
   "metadata": {
    "ExecuteTime": {
     "end_time": "2020-10-27T01:22:10.107307Z",
     "start_time": "2020-10-27T01:22:10.094194Z"
    }
   },
   "outputs": [],
   "source": [
    "def uniform(radius):\n",
    "    while True:\n",
    "        x = np.random.uniform(-radius, radius, size=4)\n",
    "        if np.linalg.norm(x) < radius:\n",
    "            return x\n",
    "\n",
    "\n",
    "def lattice(N=100, d=4):\n",
    "    n = N + 1\n",
    "    z = np.zeros(d)\n",
    "    a_korobov = 14471.\n",
    "    for i in np.arange(d):\n",
    "        z[i] = a_korobov**i % n\n",
    "\n",
    "    U_lattice = np.zeros((n, d))\n",
    "    for m in np.arange(n):\n",
    "        U_lattice[m, :] = ((z * m) / n) % 1\n",
    "\n",
    "\n",
    "#     U_lattice[0] = np.array([0.01, 0.01, 0.01, 0.01])\n",
    "\n",
    "    return U_lattice[1:]\n",
    "\n",
    "\n",
    "def ppf(x):\n",
    "    return np.array([norm.ppf(xi) for xi in x])\n",
    "\n",
    "\n",
    "def g(x):\n",
    "    x_norm = np.linalg.norm(x)\n",
    "    return (2. * np.pi)**(-2.) * np.exp(-1. / 2. * x_norm**2.)\n",
    "\n",
    "\n",
    "class E:\n",
    "    def __init__(self, G, Y, r=3.):\n",
    "        self.X = G\n",
    "        self.Y = Y\n",
    "        self.r = r\n",
    "        self.M = len(G)\n",
    "\n",
    "    def knn(self, x, k=5):\n",
    "        dists = [np.linalg.norm(_ - x) for _ in self.X]\n",
    "        indices = np.argsort(dists)[:k]\n",
    "        weights = {}\n",
    "        if dists[indices[0]] == 0:\n",
    "            weights[indices[0]] = 1\n",
    "            for i in indices[1:]:\n",
    "                weights[i] = 0\n",
    "        else:\n",
    "            for _ in indices:\n",
    "                # weights[_] = 1. / dists[_]**2.\n",
    "                weights[_] = 1.\n",
    "            d_sum = np.sum(list(weights.values()))\n",
    "        return [(i, weights[i] / d_sum) for i in np.argsort(dists)[:k]]\n",
    "\n",
    "    def f_reg(self, x):\n",
    "        #         if np.linalg.norm(x) > self.r:\n",
    "        #             return 0.\n",
    "        return np.sum([wi * Y[i] for i, wi in self.knn(x, k=10)])\n",
    "\n",
    "    def brutal(self, N=1000):\n",
    "        I = 0\n",
    "        for _ in range(N):\n",
    "            x = np.random.rand(4)\n",
    "            I += self.f_reg(x) + self.f_reg(-x)\n",
    "        return I / N / 2.\n",
    "\n",
    "    def HMI(self, N=1000):\n",
    "        x0 = np.zeros(4)\n",
    "        I = 0\n",
    "        for _ in range(N):\n",
    "            x1 = x0 + uniform(self.r / 4.)\n",
    "            if np.random.rand() < g(x1) / g(x0):\n",
    "                x0 = x1\n",
    "            I += self.f_reg(x0) + self.f_reg(-x0)\n",
    "        return I / N / 2.\n",
    "\n",
    "    def QMC(self):\n",
    "        X1 = lattice(N=5000)\n",
    "        G1 = np.array([ppf(x) for x in X1])\n",
    "        Y1 = [res.f_reg(x) for x in G1]\n",
    "        return np.mean(Y1)\n",
    "\n",
    "    def final(self):\n",
    "        return np.mean([self.HMI() for _ in range(10)])"
   ]
  },
  {
   "cell_type": "code",
   "execution_count": 24,
   "metadata": {
    "ExecuteTime": {
     "end_time": "2020-10-27T01:02:42.584886Z",
     "start_time": "2020-10-27T01:02:37.114758Z"
    }
   },
   "outputs": [
    {
     "name": "stdout",
     "output_type": "stream",
     "text": [
      "1.464850077502808 0.011130544272578985\n"
     ]
    }
   ],
   "source": [
    "def f(x):\n",
    "    #     x_norm = np.linalg.norm(x)\n",
    "    #     if x_norm == 0:\n",
    "    #         return 1.\n",
    "    return np.max(np.abs(x))\n",
    "\n",
    "\n",
    "M = 10000\n",
    "X = lattice(N=M, d=4)\n",
    "G = np.array([ppf(x) for x in X])\n",
    "Y = [f(x) for x in G]\n",
    "dY = 1.96 * np.std(Y) / np.sqrt(M)\n",
    "print(np.mean(Y), dY)"
   ]
  },
  {
   "cell_type": "code",
   "execution_count": 3,
   "metadata": {
    "ExecuteTime": {
     "end_time": "2020-10-27T01:22:14.534662Z",
     "start_time": "2020-10-27T01:22:14.528926Z"
    }
   },
   "outputs": [],
   "source": [
    "C = [1.]\n",
    "\n",
    "\n",
    "def c(k):\n",
    "    if k == 0:\n",
    "        return 1\n",
    "\n",
    "    s = 0\n",
    "    for i in range(k):\n",
    "        s += C[i] * C[k - i - 1] / (i + 1.) / (2. * i + 1.)\n",
    "    return s\n",
    "\n",
    "\n",
    "def a(k):\n",
    "    return C[k] / (2. * k + 1.)"
   ]
  },
  {
   "cell_type": "code",
   "execution_count": 16,
   "metadata": {
    "ExecuteTime": {
     "end_time": "2020-10-27T01:00:42.814914Z",
     "start_time": "2020-10-27T01:00:42.811675Z"
    }
   },
   "outputs": [
    {
     "data": {
      "text/plain": [
       "[1.0]"
      ]
     },
     "execution_count": 16,
     "metadata": {},
     "output_type": "execute_result"
    }
   ],
   "source": [
    "C"
   ]
  },
  {
   "cell_type": "code",
   "execution_count": 4,
   "metadata": {
    "ExecuteTime": {
     "end_time": "2020-10-27T01:22:19.933131Z",
     "start_time": "2020-10-27T01:22:19.927450Z"
    }
   },
   "outputs": [],
   "source": [
    "for i in range(1,100):\n",
    "    C.append(c(i))"
   ]
  },
  {
   "cell_type": "code",
   "execution_count": 7,
   "metadata": {
    "ExecuteTime": {
     "end_time": "2020-10-27T01:22:37.298894Z",
     "start_time": "2020-10-27T01:22:37.283905Z"
    }
   },
   "outputs": [
    {
     "data": {
      "text/plain": [
       "100"
      ]
     },
     "execution_count": 7,
     "metadata": {},
     "output_type": "execute_result"
    }
   ],
   "source": [
    "len(C)"
   ]
  },
  {
   "cell_type": "code",
   "execution_count": 12,
   "metadata": {
    "ExecuteTime": {
     "end_time": "2020-10-27T01:36:40.682811Z",
     "start_time": "2020-10-27T01:36:40.588051Z"
    }
   },
   "outputs": [
    {
     "data": {
      "image/png": "[encoded data removed]",
      "text/plain": [
       "<Figure size 432x288 with 1 Axes>"
      ]
     },
     "metadata": {
      "needs_background": "light"
     },
     "output_type": "display_data"
    }
   ],
   "source": [
    "n = 10\n",
    "A = [\n",
    "    np.log(a(k) * (np.sqrt(np.pi) / 2.)**(2. * k + 1.) / (2. * k + n + 1.))\n",
    "    for k in range(len(C))\n",
    "]\n",
    "\n",
    "fig, ax = plt.subplots()\n",
    "ax.plot(A, \".\")\n",
    "plt.show()"
   ]
  },
  {
   "cell_type": "code",
   "execution_count": 25,
   "metadata": {
    "ExecuteTime": {
     "end_time": "2020-10-27T01:02:46.830512Z",
     "start_time": "2020-10-27T01:02:46.827204Z"
    }
   },
   "outputs": [],
   "source": [
    "def In_fake(n):\n",
    "    s = 0\n",
    "    for k in range(20):\n",
    "        s += a(k) * (np.sqrt(np.pi) / 2.)**(2. * k + 1.) / (2. * k + n + 1.)\n",
    "    s *= n * np.sqrt(2.)\n",
    "    return s"
   ]
  },
  {
   "cell_type": "code",
   "execution_count": 40,
   "metadata": {
    "ExecuteTime": {
     "end_time": "2020-10-18T19:33:56.037210Z",
     "start_time": "2020-10-18T19:33:56.031817Z"
    }
   },
   "outputs": [
    {
     "data": {
      "text/plain": [
       "1.3263867552786095"
      ]
     },
     "execution_count": 40,
     "metadata": {},
     "output_type": "execute_result"
    }
   ],
   "source": [
    "12 / np.pi**1.5 * np.arctan(2**(-0.5))"
   ]
  },
  {
   "cell_type": "code",
   "execution_count": 4,
   "metadata": {
    "ExecuteTime": {
     "end_time": "2020-10-24T04:09:56.446034Z",
     "start_time": "2020-10-24T04:09:56.438280Z"
    }
   },
   "outputs": [
    {
     "data": {
      "text/plain": [
       "1.4647400966408215"
      ]
     },
     "execution_count": 4,
     "metadata": {},
     "output_type": "execute_result"
    }
   ],
   "source": [
    "8 * np.sqrt(2) / np.pi**2 * 23 / 18"
   ]
  },
  {
   "cell_type": "code",
   "execution_count": 28,
   "metadata": {
    "ExecuteTime": {
     "end_time": "2020-10-27T01:03:11.794989Z",
     "start_time": "2020-10-27T01:03:11.791513Z"
    }
   },
   "outputs": [
    {
     "data": {
      "text/plain": [
       "1.3034382318051487"
      ]
     },
     "execution_count": 28,
     "metadata": {},
     "output_type": "execute_result"
    }
   ],
   "source": [
    "In_fake(3)"
   ]
  },
  {
   "cell_type": "code",
   "execution_count": 15,
   "metadata": {
    "ExecuteTime": {
     "end_time": "2020-10-18T01:19:14.669423Z",
     "start_time": "2020-10-18T01:19:08.944647Z"
    }
   },
   "outputs": [
    {
     "name": "stdout",
     "output_type": "stream",
     "text": [
      "3.6910411750310588 0.400736273160822\n",
      "2.8195047641459454\n"
     ]
    }
   ],
   "source": [
    "X = lattice()\n",
    "G = np.array([ppf(x) for x in X])\n",
    "Y = [f(x) for x in G]\n",
    "dY = 1.96 * np.std(Y) / 10.\n",
    "print(np.mean(Y), dY)\n",
    "res = E(G, Y)\n",
    "print(res.QMC())"
   ]
  },
  {
   "cell_type": "code",
   "execution_count": 38,
   "metadata": {
    "ExecuteTime": {
     "end_time": "2020-10-17T15:55:52.550735Z",
     "start_time": "2020-10-17T15:55:52.535559Z"
    }
   },
   "outputs": [
    {
     "data": {
      "text/plain": [
       "0.2916666666666667"
      ]
     },
     "execution_count": 38,
     "metadata": {},
     "output_type": "execute_result"
    }
   ],
   "source": [
    "0.7/2.4"
   ]
  },
  {
   "cell_type": "code",
   "execution_count": 41,
   "metadata": {
    "ExecuteTime": {
     "end_time": "2020-10-16T20:03:37.719608Z",
     "start_time": "2020-10-16T20:03:31.075070Z"
    }
   },
   "outputs": [
    {
     "name": "stdout",
     "output_type": "stream",
     "text": [
      "2.3100129216746796\n"
     ]
    }
   ],
   "source": []
  },
  {
   "cell_type": "code",
   "execution_count": 80,
   "metadata": {
    "ExecuteTime": {
     "end_time": "2020-10-16T20:43:14.035519Z",
     "start_time": "2020-10-16T20:43:13.921578Z"
    }
   },
   "outputs": [
    {
     "data": {
      "image/png": "[encoded data removed]",
      "text/plain": [
       "<Figure size 432x288 with 1 Axes>"
      ]
     },
     "metadata": {
      "needs_background": "light"
     },
     "output_type": "display_data"
    }
   ],
   "source": [
    "# X1 = lattice(n=1000)\n",
    "# G1 = np.array([ppf(x) for x in X1])\n",
    "# Y1 = [res.f_reg(x) for x in G1]\n",
    "\n",
    "fig, ax = plt.subplots()\n",
    "# ax.plot(G[:, 3], Y, \".\")\n",
    "# ax.plot(G1[:, 0], Y1, \"r-\")\n",
    "ax.plot([np.linalg.norm(x) for x in G], \".\")\n",
    "\n",
    "# ax.set_aspect(1)\n",
    "plt.show()"
   ]
  },
  {
   "cell_type": "code",
   "execution_count": 53,
   "metadata": {
    "ExecuteTime": {
     "end_time": "2020-10-16T20:16:55.772204Z",
     "start_time": "2020-10-16T20:16:55.760227Z"
    }
   },
   "outputs": [],
   "source": [
    "f_0 = interp1d(G[:, 3], Y, kind='cubic', bounds_error=False, fill_value=0.)"
   ]
  },
  {
   "cell_type": "code",
   "execution_count": 61,
   "metadata": {
    "ExecuteTime": {
     "end_time": "2020-10-16T20:23:08.059808Z",
     "start_time": "2020-10-16T20:23:07.936241Z"
    }
   },
   "outputs": [
    {
     "data": {
      "image/png": "[encoded data removed]",
      "text/plain": [
       "<Figure size 432x288 with 1 Axes>"
      ]
     },
     "metadata": {
      "needs_background": "light"
     },
     "output_type": "display_data"
    }
   ],
   "source": [
    "# Xt = np.linspace(-0.1, 0.1, 1000)\n",
    "# Yt = [f_0(_) for _ in Xt]\n",
    "\n",
    "fig, ax = plt.subplots()\n",
    "ax.plot(X[:, 3], Y, \".\")\n",
    "# ax.plot(Xt, Yt, \"--\")\n",
    "# ax.plot(G1[:, 0], Y1, \"r-\")\n",
    "# ax.plot([np.linalg.norm(x) for x in G], \".\")\n",
    "\n",
    "# ax.set_aspect(1)\n",
    "plt.show()"
   ]
  },
  {
   "cell_type": "code",
   "execution_count": 33,
   "metadata": {
    "ExecuteTime": {
     "end_time": "2020-10-16T19:55:01.074165Z",
     "start_time": "2020-10-16T19:55:00.963353Z"
    }
   },
   "outputs": [
    {
     "data": {
      "image/png": "[encoded data removed]",
      "text/plain": [
       "<Figure size 432x288 with 1 Axes>"
      ]
     },
     "metadata": {
      "needs_background": "light"
     },
     "output_type": "display_data"
    }
   ],
   "source": [
    "fig, ax = plt.subplots()\n",
    "ax.plot(G[:, 1], Y, \".\")\n",
    "ax.plot(G1[:, 1], Y1, \"r.\")\n",
    "# ax.plot([np.linalg.norm(x) for x in G], \".\")\n",
    "\n",
    "# ax.set_aspect(1)\n",
    "plt.show()"
   ]
  },
  {
   "cell_type": "code",
   "execution_count": 4,
   "metadata": {
    "ExecuteTime": {
     "end_time": "2020-10-16T21:03:00.424430Z",
     "start_time": "2020-10-16T21:02:59.743410Z"
    }
   },
   "outputs": [
    {
     "data": {
      "image/png": "[encoded data removed]",
      "text/plain": [
       "<Figure size 432x288 with 16 Axes>"
      ]
     },
     "metadata": {
      "needs_background": "light"
     },
     "output_type": "display_data"
    }
   ],
   "source": [
    "d = 4\n",
    "U_lattice = lattice()\n",
    "\n",
    "plt.close('all')\n",
    "fig = plt.figure('Scatterplot of lattice points')\n",
    "for i in np.arange(d):\n",
    "    for j in np.arange(d):\n",
    "        ax = plt.subplot(d, d, i * (d) + j + 1)\n",
    "        plt.scatter(U_lattice[:, i], U_lattice[:, j], 1)\n",
    "        plt.tick_params(axis='both',\n",
    "                        left='off',\n",
    "                        top='off',\n",
    "                        right='off',\n",
    "                        bottom='off',\n",
    "                        labelleft='off',\n",
    "                        labeltop='off',\n",
    "                        labelright='off',\n",
    "                        labelbottom='off')\n",
    "        ax.set_aspect(1)\n",
    "        ax.axes.xaxis.set_visible(False)\n",
    "        ax.axes.yaxis.set_visible(False)\n",
    "# plt.tight_layout()\n",
    "fig.savefig(\"lattice.eps\", format=\"eps\", dpi=1000)\n",
    "plt.show()"
   ]
  },
  {
   "cell_type": "code",
   "execution_count": 3,
   "metadata": {
    "ExecuteTime": {
     "end_time": "2020-10-17T13:10:38.522502Z",
     "start_time": "2020-10-17T13:10:38.500672Z"
    }
   },
   "outputs": [
    {
     "name": "stdout",
     "output_type": "stream",
     "text": [
      "[[0.00990099 0.27722772 0.76237624 0.34653465]\n",
      " [0.01980198 0.55445545 0.52475248 0.69306931]\n",
      " [0.02970297 0.83168317 0.28712871 0.03960396]\n",
      " [0.03960396 0.10891089 0.04950495 0.38613861]\n",
      " [0.04950495 0.38613861 0.81188119 0.73267327]\n",
      " [0.05940594 0.66336634 0.57425743 0.07920792]\n",
      " [0.06930693 0.94059406 0.33663366 0.42574257]\n",
      " [0.07920792 0.21782178 0.0990099  0.77227723]\n",
      " [0.08910891 0.4950495  0.86138614 0.11881188]\n",
      " [0.0990099  0.77227723 0.62376238 0.46534653]\n",
      " [0.10891089 0.04950495 0.38613861 0.81188119]\n",
      " [0.11881188 0.32673267 0.14851485 0.15841584]\n",
      " [0.12871287 0.6039604  0.91089109 0.5049505 ]\n",
      " [0.13861386 0.88118812 0.67326733 0.85148515]\n",
      " [0.14851485 0.15841584 0.43564356 0.1980198 ]\n",
      " [0.15841584 0.43564356 0.1980198  0.54455446]\n",
      " [0.16831683 0.71287129 0.96039604 0.89108911]\n",
      " [0.17821782 0.99009901 0.72277228 0.23762376]\n",
      " [0.18811881 0.26732673 0.48514851 0.58415842]\n",
      " [0.1980198  0.54455446 0.24752475 0.93069307]\n",
      " [0.20792079 0.82178218 0.00990099 0.27722772]\n",
      " [0.21782178 0.0990099  0.77227723 0.62376238]\n",
      " [0.22772277 0.37623762 0.53465347 0.97029703]\n",
      " [0.23762376 0.65346535 0.2970297  0.31683168]\n",
      " [0.24752475 0.93069307 0.05940594 0.66336634]\n",
      " [0.25742574 0.20792079 0.82178218 0.00990099]\n",
      " [0.26732673 0.48514851 0.58415842 0.35643564]\n",
      " [0.27722772 0.76237624 0.34653465 0.7029703 ]\n",
      " [0.28712871 0.03960396 0.10891089 0.04950495]\n",
      " [0.2970297  0.31683168 0.87128713 0.3960396 ]\n",
      " [0.30693069 0.59405941 0.63366337 0.74257426]\n",
      " [0.31683168 0.87128713 0.3960396  0.08910891]\n",
      " [0.32673267 0.14851485 0.15841584 0.43564356]\n",
      " [0.33663366 0.42574257 0.92079208 0.78217822]\n",
      " [0.34653465 0.7029703  0.68316832 0.12871287]\n",
      " [0.35643564 0.98019802 0.44554455 0.47524752]\n",
      " [0.36633663 0.25742574 0.20792079 0.82178218]\n",
      " [0.37623762 0.53465347 0.97029703 0.16831683]\n",
      " [0.38613861 0.81188119 0.73267327 0.51485149]\n",
      " [0.3960396  0.08910891 0.4950495  0.86138614]\n",
      " [0.40594059 0.36633663 0.25742574 0.20792079]\n",
      " [0.41584158 0.64356436 0.01980198 0.55445545]\n",
      " [0.42574257 0.92079208 0.78217822 0.9009901 ]\n",
      " [0.43564356 0.1980198  0.54455446 0.24752475]\n",
      " [0.44554455 0.47524752 0.30693069 0.59405941]\n",
      " [0.45544554 0.75247525 0.06930693 0.94059406]\n",
      " [0.46534653 0.02970297 0.83168317 0.28712871]\n",
      " [0.47524752 0.30693069 0.59405941 0.63366337]\n",
      " [0.48514851 0.58415842 0.35643564 0.98019802]\n",
      " [0.4950495  0.86138614 0.11881188 0.32673267]\n",
      " [0.5049505  0.13861386 0.88118812 0.67326733]\n",
      " [0.51485149 0.41584158 0.64356436 0.01980198]\n",
      " [0.52475248 0.69306931 0.40594059 0.36633663]\n",
      " [0.53465347 0.97029703 0.16831683 0.71287129]\n",
      " [0.54455446 0.24752475 0.93069307 0.05940594]\n",
      " [0.55445545 0.52475248 0.69306931 0.40594059]\n",
      " [0.56435644 0.8019802  0.45544554 0.75247525]\n",
      " [0.57425743 0.07920792 0.21782178 0.0990099 ]\n",
      " [0.58415842 0.35643564 0.98019802 0.44554455]\n",
      " [0.59405941 0.63366337 0.74257426 0.79207921]\n",
      " [0.6039604  0.91089109 0.5049505  0.13861386]\n",
      " [0.61386139 0.18811881 0.26732673 0.48514851]\n",
      " [0.62376238 0.46534653 0.02970297 0.83168317]\n",
      " [0.63366337 0.74257426 0.79207921 0.17821782]\n",
      " [0.64356436 0.01980198 0.55445545 0.52475248]\n",
      " [0.65346535 0.2970297  0.31683168 0.87128713]\n",
      " [0.66336634 0.57425743 0.07920792 0.21782178]\n",
      " [0.67326733 0.85148515 0.84158416 0.56435644]\n",
      " [0.68316832 0.12871287 0.6039604  0.91089109]\n",
      " [0.69306931 0.40594059 0.36633663 0.25742574]\n",
      " [0.7029703  0.68316832 0.12871287 0.6039604 ]\n",
      " [0.71287129 0.96039604 0.89108911 0.95049505]\n",
      " [0.72277228 0.23762376 0.65346535 0.2970297 ]\n",
      " [0.73267327 0.51485149 0.41584158 0.64356436]\n",
      " [0.74257426 0.79207921 0.17821782 0.99009901]\n",
      " [0.75247525 0.06930693 0.94059406 0.33663366]\n",
      " [0.76237624 0.34653465 0.7029703  0.68316832]\n",
      " [0.77227723 0.62376238 0.46534653 0.02970297]\n",
      " [0.78217822 0.9009901  0.22772277 0.37623762]\n",
      " [0.79207921 0.17821782 0.99009901 0.72277228]\n",
      " [0.8019802  0.45544554 0.75247525 0.06930693]\n",
      " [0.81188119 0.73267327 0.51485149 0.41584158]\n",
      " [0.82178218 0.00990099 0.27722772 0.76237624]\n",
      " [0.83168317 0.28712871 0.03960396 0.10891089]\n",
      " [0.84158416 0.56435644 0.8019802  0.45544554]\n",
      " [0.85148515 0.84158416 0.56435644 0.8019802 ]\n",
      " [0.86138614 0.11881188 0.32673267 0.14851485]\n",
      " [0.87128713 0.3960396  0.08910891 0.4950495 ]\n",
      " [0.88118812 0.67326733 0.85148515 0.84158416]\n",
      " [0.89108911 0.95049505 0.61386139 0.18811881]\n",
      " [0.9009901  0.22772277 0.37623762 0.53465347]\n",
      " [0.91089109 0.5049505  0.13861386 0.88118812]\n",
      " [0.92079208 0.78217822 0.9009901  0.22772277]\n",
      " [0.93069307 0.05940594 0.66336634 0.57425743]\n",
      " [0.94059406 0.33663366 0.42574257 0.92079208]\n",
      " [0.95049505 0.61386139 0.18811881 0.26732673]\n",
      " [0.96039604 0.89108911 0.95049505 0.61386139]\n",
      " [0.97029703 0.16831683 0.71287129 0.96039604]\n",
      " [0.98019802 0.44554455 0.47524752 0.30693069]\n",
      " [0.99009901 0.72277228 0.23762376 0.65346535]]\n"
     ]
    }
   ],
   "source": [
    "print(lattice())"
   ]
  }
 ],
 "metadata": {
  "kernelspec": {
   "display_name": "Python 3 (ipykernel)",
   "language": "python",
   "name": "python3"
  },
  "language_info": {
   "codemirror_mode": {
    "name": "ipython",
    "version": 3
   },
   "file_extension": ".py",
   "mimetype": "text/x-python",
   "name": "python",
   "nbconvert_exporter": "python",
   "pygments_lexer": "ipython3",
   "version": "3.8.12"
  }
 },
 "nbformat": 4,
 "nbformat_minor": 4
}
