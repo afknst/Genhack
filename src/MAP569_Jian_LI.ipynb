{
 "cells": [
  {
   "cell_type": "code",
   "execution_count": 1,
   "metadata": {
    "ExecuteTime": {
     "end_time": "2021-04-02T06:19:14.588703Z",
     "start_time": "2021-04-02T06:19:13.881250Z"
    }
   },
   "outputs": [],
   "source": [
    "import pickle\n",
    "import pandas as pd\n",
    "import numpy as np\n",
    "import matplotlib.pyplot as plt"
   ]
  },
  {
   "cell_type": "code",
   "execution_count": 2,
   "metadata": {
    "ExecuteTime": {
     "end_time": "2021-04-02T06:19:16.057005Z",
     "start_time": "2021-04-02T06:19:16.053774Z"
    }
   },
   "outputs": [],
   "source": [
    "def save(_model, _name):\n",
    "    pickle.dump(_model, open(_name, 'wb'))\n",
    "\n",
    "\n",
    "def load(_name):\n",
    "    return pickle.load(open(_name, 'rb'))"
   ]
  },
  {
   "cell_type": "code",
   "execution_count": 3,
   "metadata": {
    "ExecuteTime": {
     "end_time": "2021-03-29T01:17:27.982167Z",
     "start_time": "2021-03-29T01:17:26.171414Z"
    }
   },
   "outputs": [
    {
     "name": "stdout",
     "output_type": "stream",
     "text": [
      "<class 'pandas.core.frame.DataFrame'>\n",
      "RangeIndex: 105782 entries, 0 to 105781\n",
      "Data columns (total 39 columns):\n",
      " #   Column                      Non-Null Count   Dtype  \n",
      "---  ------                      --------------   -----  \n",
      " 0   Index                       105782 non-null  int64  \n",
      " 1   Share                       105782 non-null  int64  \n",
      " 2   Day                         105782 non-null  int64  \n",
      " 3   Trader                      105782 non-null  object \n",
      " 4   OTR                         105782 non-null  float64\n",
      " 5   OCR                         105782 non-null  float64\n",
      " 6   OMR                         105782 non-null  float64\n",
      " 7   min_time_two_events         105782 non-null  float64\n",
      " 8   mean_time_two_events        105782 non-null  float64\n",
      " 9   10_p_time_two_events        105782 non-null  float64\n",
      " 10  med_time_two_events         105782 non-null  float64\n",
      " 11  25_p_time_two_events        105782 non-null  float64\n",
      " 12  75_p_time_two_events        105782 non-null  float64\n",
      " 13  90_p_time_two_events        105782 non-null  float64\n",
      " 14  max_time_two_events         105782 non-null  float64\n",
      " 15  min_lifetime_cancel         105782 non-null  float64\n",
      " 16  mean_lifetime_cancel        105782 non-null  float64\n",
      " 17  10_p_lifetime_cancel        105782 non-null  float64\n",
      " 18  med_lifetime_cancel         105782 non-null  float64\n",
      " 19  25_p_lifetime_cancel        105782 non-null  float64\n",
      " 20  75_p_lifetime_cancel        105782 non-null  float64\n",
      " 21  90_p_lifetime_cancel        105782 non-null  float64\n",
      " 22  max_lifetime_cancel         105782 non-null  float64\n",
      " 23  NbTradeVenueMic             105782 non-null  int64  \n",
      " 24  MaxNbTradesBySecond         105782 non-null  int64  \n",
      " 25  MeanNbTradesBySecond        105782 non-null  float64\n",
      " 26  min_dt_TV1                  105782 non-null  float64\n",
      " 27  mean_dt_TV1                 105782 non-null  float64\n",
      " 28  med_dt_TV1                  105782 non-null  float64\n",
      " 29  min_dt_TV1_TV2              105782 non-null  float64\n",
      " 30  mean_dt_TV1_TV2             105782 non-null  float64\n",
      " 31  med_dt_TV1_TV2              105782 non-null  float64\n",
      " 32  min_dt_TV1_TV3              105782 non-null  float64\n",
      " 33  mean_dt_TV1_TV3             105782 non-null  float64\n",
      " 34  med_dt_TV1_TV3              105782 non-null  float64\n",
      " 35  min_dt_TV1_TV4              105782 non-null  float64\n",
      " 36  mean_dt_TV1_TV4             105782 non-null  float64\n",
      " 37  med_dt_TV1_TV4              105782 non-null  float64\n",
      " 38  NbSecondWithAtLeatOneTrade  105782 non-null  int64  \n",
      "dtypes: float64(32), int64(6), object(1)\n",
      "memory usage: 31.5+ MB\n"
     ]
    }
   ],
   "source": [
    "df = pd.read_csv('data/AMF_train_X_XCZw8r3.csv')\n",
    "df = df.replace(np.nan, '0', regex=True)\n",
    "df['Share'] = df['Share'].str.extract('(\\d+)')\n",
    "df['Day'] = df['Day'].str.extract('(\\d+)')\n",
    "# df['Trader'] = df['Trader'].str.extract('(\\d+)')\n",
    "\n",
    "for i in df:\n",
    "    if i != 'Trader':\n",
    "        df[i] = pd.to_numeric(df[i])\n",
    "\n",
    "df.info()\n",
    "save(df, 'data.p')\n",
    "\n",
    "Traders = df['Trader'].unique()\n",
    "\n",
    "\n",
    "def trader_index(_name):\n",
    "    return np.where(Traders == _name)[0][0]\n",
    "\n",
    "\n",
    "# def data_trader(_name):\n",
    "#     return df[df['Trader'] == _name]\n",
    "\n",
    "df = df.drop(['Index', 'Trader'], axis=1)\n",
    "save(df, 'data_1.p')"
   ]
  },
  {
   "cell_type": "code",
   "execution_count": 15,
   "metadata": {
    "ExecuteTime": {
     "end_time": "2021-03-29T01:29:59.560620Z",
     "start_time": "2021-03-29T01:29:59.461424Z"
    }
   },
   "outputs": [],
   "source": [
    "data_1 = load('data_1.p')\n",
    "from sklearn.preprocessing import MinMaxScaler\n",
    "t = MinMaxScaler()\n",
    "t.fit(data_1)\n",
    "X_1 = t.transform(data_1)\n",
    "save(X_1, 'X_1.p')"
   ]
  },
  {
   "cell_type": "code",
   "execution_count": 3,
   "metadata": {
    "ExecuteTime": {
     "end_time": "2021-04-02T06:19:24.590187Z",
     "start_time": "2021-04-02T06:19:24.057124Z"
    }
   },
   "outputs": [],
   "source": [
    "from sklearn.neural_network import MLPRegressor\n",
    "from sklearn.metrics import accuracy_score"
   ]
  },
  {
   "cell_type": "code",
   "execution_count": 6,
   "metadata": {
    "ExecuteTime": {
     "end_time": "2021-04-02T06:19:47.502259Z",
     "start_time": "2021-04-02T06:19:47.414171Z"
    }
   },
   "outputs": [],
   "source": [
    "# Shape of input and latent variable\n",
    "data_1 = load('data_1.p')\n",
    "\n",
    "n_input = data_1.shape[1]\n",
    "\n",
    "# Encoder structure\n",
    "n_encoder1 = int(data_1.shape[1] * 0.7)\n",
    "n_encoder2 = int(n_encoder1 * 0.6)\n",
    "\n",
    "n_latent = 2\n",
    "\n",
    "# Decoder structure\n",
    "n_decoder2 = n_encoder2\n",
    "n_decoder1 = n_encoder1"
   ]
  },
  {
   "cell_type": "code",
   "execution_count": 4,
   "metadata": {
    "ExecuteTime": {
     "end_time": "2021-04-02T06:19:30.741717Z",
     "start_time": "2021-04-02T06:19:30.727538Z"
    }
   },
   "outputs": [],
   "source": [
    "reg = MLPRegressor(hidden_layer_sizes=(n_encoder1, n_encoder2, n_latent,\n",
    "                                       n_decoder2, n_decoder1),\n",
    "                   activation='tanh',\n",
    "                   solver='adam',\n",
    "                   learning_rate_init=0.0001,\n",
    "                   max_iter=1000,\n",
    "                   tol=0.0001)\n",
    "\n",
    "reg.fit(X_INPUT, X_INPUT)\n",
    "\n",
    "# for _ in range(100):\n",
    "#     reg.fit(X_1, X_1)\n",
    "# reg.set_params(tol=0.0000001)\n",
    "# save(reg, 'reg.p')\n",
    "\n",
    "reg = load('reg.p')"
   ]
  },
  {
   "cell_type": "code",
   "execution_count": 17,
   "metadata": {
    "ExecuteTime": {
     "end_time": "2021-04-02T07:22:54.287564Z",
     "start_time": "2021-04-02T07:22:54.267747Z"
    }
   },
   "outputs": [
    {
     "data": {
      "text/plain": [
       "MLPRegressor(activation='tanh', hidden_layer_sizes=(25, 15, 2, 15, 25),\n",
       "             learning_rate_init=0.0001, max_iter=1000, tol=1e-07, verbose=True,\n",
       "             warm_start=True)"
      ]
     },
     "execution_count": 17,
     "metadata": {},
     "output_type": "execute_result"
    }
   ],
   "source": [
    "reg"
   ]
  },
  {
   "cell_type": "code",
   "execution_count": 7,
   "metadata": {
    "ExecuteTime": {
     "end_time": "2021-04-02T06:19:51.557314Z",
     "start_time": "2021-04-02T06:19:51.552217Z"
    }
   },
   "outputs": [],
   "source": [
    "def encoder(data):\n",
    "    data = np.asmatrix(data)\n",
    "\n",
    "    encoder1 = data * reg.coefs_[0] + reg.intercepts_[0]\n",
    "    encoder1 = (np.exp(encoder1) - np.exp(-encoder1)) / (np.exp(encoder1) +\n",
    "                                                         np.exp(-encoder1))\n",
    "\n",
    "    encoder2 = encoder1 * reg.coefs_[1] + reg.intercepts_[1]\n",
    "    encoder2 = (np.exp(encoder2) - np.exp(-encoder2)) / (np.exp(encoder2) +\n",
    "                                                         np.exp(-encoder2))\n",
    "\n",
    "    latent = encoder2 * reg.coefs_[2] + reg.intercepts_[2]\n",
    "    latent = (np.exp(latent) - np.exp(-latent)) / (np.exp(latent) +\n",
    "                                                   np.exp(-latent))\n",
    "\n",
    "    return np.asarray(latent)"
   ]
  },
  {
   "cell_type": "code",
   "execution_count": 11,
   "metadata": {
    "ExecuteTime": {
     "end_time": "2021-04-02T06:21:36.567896Z",
     "start_time": "2021-04-02T06:21:36.113930Z"
    }
   },
   "outputs": [],
   "source": [
    "X_1 = load('X_1.p')\n",
    "X_e = encoder(X_1)"
   ]
  },
  {
   "cell_type": "code",
   "execution_count": 9,
   "metadata": {
    "ExecuteTime": {
     "end_time": "2021-04-02T06:20:51.892711Z",
     "start_time": "2021-04-02T06:20:51.806181Z"
    }
   },
   "outputs": [],
   "source": [
    "X_0 = load('data.p')"
   ]
  },
  {
   "cell_type": "code",
   "execution_count": 8,
   "metadata": {
    "ExecuteTime": {
     "end_time": "2021-04-02T06:20:33.587967Z",
     "start_time": "2021-04-02T06:20:33.583746Z"
    }
   },
   "outputs": [],
   "source": [
    "y_0_dict = load('y_0_dict.p')"
   ]
  },
  {
   "cell_type": "code",
   "execution_count": 12,
   "metadata": {
    "ExecuteTime": {
     "end_time": "2021-04-02T06:21:55.638648Z",
     "start_time": "2021-04-02T06:21:55.633899Z"
    }
   },
   "outputs": [],
   "source": [
    "from numpy.random import default_rng\n",
    "\n",
    "rng = default_rng()"
   ]
  },
  {
   "cell_type": "code",
   "execution_count": 14,
   "metadata": {
    "ExecuteTime": {
     "end_time": "2021-04-02T06:33:37.400298Z",
     "start_time": "2021-04-02T06:33:37.396347Z"
    }
   },
   "outputs": [
    {
     "data": {
      "text/plain": [
       "(105782, 39)"
      ]
     },
     "execution_count": 14,
     "metadata": {},
     "output_type": "execute_result"
    }
   ],
   "source": [
    "X_0.shape"
   ]
  },
  {
   "cell_type": "code",
   "execution_count": 15,
   "metadata": {
    "ExecuteTime": {
     "end_time": "2021-04-02T06:57:30.749571Z",
     "start_time": "2021-04-02T06:57:30.743482Z"
    }
   },
   "outputs": [],
   "source": [
    "from matplotlib.lines import Line2D"
   ]
  },
  {
   "cell_type": "code",
   "execution_count": 19,
   "metadata": {
    "ExecuteTime": {
     "end_time": "2021-04-02T07:54:32.094060Z",
     "start_time": "2021-04-02T07:54:27.319194Z"
    }
   },
   "outputs": [
    {
     "data": {
      "image/png": "[encoded data removed]",
      "text/plain": [
       "<Figure size 432x288 with 1 Axes>"
      ]
     },
     "metadata": {
      "needs_background": "light"
     },
     "output_type": "display_data"
    }
   ],
   "source": [
    "numbers = rng.choice(len(X_0['Trader']), size=2000, replace=False)\n",
    "fig, ax = plt.subplots()\n",
    "\n",
    "# for _ in range(len(X_0['Trader'])):\n",
    "for _ in numbers:\n",
    "    X_i = X_e[_]\n",
    "    s = '.'\n",
    "    tp = y_0_dict[X_0['Trader'][_]]\n",
    "    if tp == 'HFT':\n",
    "        s = 'r' + s\n",
    "#         continue\n",
    "    elif tp == 'NON HFT':\n",
    "        s = 'b' + s\n",
    "#         continue\n",
    "    else:\n",
    "        s = 'k' + s\n",
    "        continue\n",
    "    ax.plot(X_i[0], X_i[1], s)\n",
    "\n",
    "blue = Line2D([], [],\n",
    "              color='blue',\n",
    "              marker='.',\n",
    "              linestyle='None',\n",
    "              markersize=10,\n",
    "              label='NON HFT')\n",
    "red = Line2D([], [],\n",
    "             color='red',\n",
    "             marker='.',\n",
    "             linestyle='None',\n",
    "             markersize=10,\n",
    "             label='HFT')\n",
    "black = Line2D([], [],\n",
    "               color='black',\n",
    "               marker='.',\n",
    "               linestyle='None',\n",
    "               markersize=10,\n",
    "               label='MIX')\n",
    "ax.set_aspect(1)\n",
    "plt.legend(handles=[blue, red])\n",
    "plt.title('Data points in latent space')\n",
    "plt.savefig('latent-2.png', dpi=300, format='png')\n",
    "\n",
    "plt.show()"
   ]
  },
  {
   "cell_type": "code",
   "execution_count": 129,
   "metadata": {
    "ExecuteTime": {
     "end_time": "2021-03-29T13:47:48.185303Z",
     "start_time": "2021-03-29T13:47:48.176721Z"
    }
   },
   "outputs": [
    {
     "data": {
      "text/plain": [
       "array([[ 0.12952289, -0.25001843],\n",
       "       [-0.62765222,  0.30757911],\n",
       "       [-0.62612893,  0.2644987 ],\n",
       "       ...,\n",
       "       [ 0.08337542, -0.43063765],\n",
       "       [ 0.13923535, -0.37514994],\n",
       "       [-0.56915376,  0.05421192]])"
      ]
     },
     "execution_count": 129,
     "metadata": {},
     "output_type": "execute_result"
    }
   ],
   "source": [
    "X_e"
   ]
  },
  {
   "cell_type": "code",
   "execution_count": 146,
   "metadata": {
    "ExecuteTime": {
     "end_time": "2021-03-29T14:23:09.691089Z",
     "start_time": "2021-03-29T14:23:09.684635Z"
    }
   },
   "outputs": [],
   "source": [
    "def phi(_N, _k=17):\n",
    "    def phi0(s):\n",
    "        return np.exp(-_k * s**2)\n",
    "\n",
    "    _phi = np.array([\n",
    "        phi0(_N + 1),\n",
    "        phi0(_N + 1 / 2),\n",
    "        phi0(_N),\n",
    "        phi0(_N - 1 / 2),\n",
    "        phi0(_N - 1)\n",
    "    ])\n",
    "    _phi = np.tensordot(_phi[:, 0], _phi[:, 1], 0)\n",
    "    return np.ravel(_phi)\n",
    "\n",
    "\n",
    "def u(_P, _a):\n",
    "    return _a * phi(_P)\n",
    "\n",
    "\n",
    "def x2y(_X, _a):\n",
    "    _Traders = _X['Trader'].unique()\n",
    "    _y = {}\n",
    "    for _t in _Traders:\n",
    "        _X_t = _X[_X['Trader'] == _t]\n",
    "        _l = _X_t.shape[0]\n",
    "        _s = 0\n",
    "        for _i in range(_l):\n",
    "            _P_i = np.array([_X_t['P0'][_i], _X_t['P1'][_i]])\n",
    "            _s += u(_P_i, _a)\n",
    "\n",
    "        if _s < 1:\n",
    "            _y[_t] = 'NON HFT'\n",
    "        elif _s > np.exp(1):\n",
    "            _y[_t] = 'HFT'\n",
    "        else:\n",
    "            _y[_t] = 'MIX'\n",
    "    return _y\n",
    "\n",
    "\n",
    "def loss(_y_pred):\n",
    "    _Y_PRED = np.array(_y_pred.values())\n",
    "    _Y_TRUE = np.array([y_0_dict[_k] for _k in _y_pred.keys()])\n",
    "    return metrics.f1_score(_Y_TRUE, _Y_PRED, average=\"micro\")"
   ]
  },
  {
   "cell_type": "code",
   "execution_count": 147,
   "metadata": {
    "ExecuteTime": {
     "end_time": "2021-03-29T15:43:05.054970Z",
     "start_time": "2021-03-29T15:43:05.051241Z"
    }
   },
   "outputs": [],
   "source": [
    "from multiprocessing import Pool\n",
    "from functools import partial"
   ]
  },
  {
   "cell_type": "code",
   "execution_count": 161,
   "metadata": {
    "ExecuteTime": {
     "end_time": "2021-03-29T16:11:58.838005Z",
     "start_time": "2021-03-29T16:11:58.833764Z"
    }
   },
   "outputs": [],
   "source": [
    "A = np.zeros(25)\n",
    "J = 0\n",
    "save((A, J), 'A.p')"
   ]
  },
  {
   "cell_type": "code",
   "execution_count": 160,
   "metadata": {
    "ExecuteTime": {
     "end_time": "2021-03-29T16:04:48.683252Z",
     "start_time": "2021-03-29T16:04:48.662679Z"
    }
   },
   "outputs": [
    {
     "name": "stdout",
     "output_type": "stream",
     "text": [
      "<class 'pandas.core.frame.DataFrame'>\n",
      "Int64Index: 32 entries, 82378 to 83901\n",
      "Data columns (total 3 columns):\n",
      " #   Column  Non-Null Count  Dtype  \n",
      "---  ------  --------------  -----  \n",
      " 0   Trader  32 non-null     object \n",
      " 1   P0      32 non-null     float64\n",
      " 2   P1      32 non-null     float64\n",
      "dtypes: float64(2), object(1)\n",
      "memory usage: 1.0+ KB\n"
     ]
    }
   ],
   "source": [
    "_M=32\n",
    "_rng = default_rng()\n",
    "_numbers = _rng.choice(len(X_0['Trader']), size=_M, replace=False)\n",
    "# _X_M = [X_e[_] for _ in _numbers]\n",
    "# _t_M = [X_0['Trader'][_] for _ in _numbers]\n",
    "\n",
    "# _df = pd.DataFrame()\n",
    "# _df['Trader'] = _t_M\n",
    "# _df['Trader'] = _t_M\n",
    "\n",
    "X_all.iloc[_numbers].info()"
   ]
  },
  {
   "cell_type": "code",
   "execution_count": null,
   "metadata": {},
   "outputs": [],
   "source": [
    "def loss_compare(_A0, _A1, _M=32):\n",
    "    with Pool() as p:\n",
    "        _rng = default_rng()\n",
    "        _numbers = _rng.choice(len(X_0['Trader']), size=_M, replace=False)\n",
    "        data.iloc[_numbers]\n",
    "        _X_M = [X_e[_] for _ in _numbers]\n",
    "        _t_M = [X_0['Trader'][_] for _ in _numbers]\n",
    "\n",
    "        for _ in numbers:\n",
    "            X_i = X_e[_]\n",
    "        _winds = p.map(create_wind, range(_M))\n",
    "        _J0 = p.map(partial(loss, _A0), _winds)\n",
    "        _J1 = p.map(partial(loss, _A1), _winds)\n",
    "        _J0 = np.mean(_J0)\n",
    "        _J1 = np.mean(_J1)\n",
    "        if _J0 < _J1:\n",
    "            return False, _J0\n",
    "        return True, _J1\n",
    "\n",
    "\n",
    "def train(_i, _M=10):\n",
    "    print(f'\\nTraining {_i}\\n')\n",
    "    _A, _J = load()\n",
    "    print(_J)\n",
    "\n",
    "    for _j in range(A_SIZE):\n",
    "        np.random.seed()\n",
    "\n",
    "        _A, _J = load()\n",
    "        print('.', end='')\n",
    "        _ita = 0.1\n",
    "        for _ in range(_M):\n",
    "            _A_new = _A\n",
    "            _A_new[_i][_j] *= _ita * np.random.randn() + 1\n",
    "            _A_new[_i][_j] += _ita * np.random.randn()\n",
    "            _cond, _J_new = loss_compare(_A, _A_new, _M)\n",
    "            if _cond:\n",
    "                _A = _A_new\n",
    "                _J = _J_new\n",
    "            elif np.random.randint(2) == 0:\n",
    "                _ita *= 2\n",
    "            else:\n",
    "                _ita *= 1 / 2\n",
    "\n",
    "        _A_old, _J_old = load()\n",
    "        if _J_new < _J_old:\n",
    "            _cond, _J_new = loss_compare(_A_old, _A, 10000)\n",
    "            if _cond:\n",
    "                save(_A_new, _J_new)\n",
    "                print()\n",
    "                print(_A[_i], _J_new)\n",
    "\n",
    "    # _A, _J = load()\n",
    "    # _J_alt = loss_M(_A, 100000)\n",
    "    # if _J_alt > _J:\n",
    "    #     save(_A, (_J_alt + _J) / 2)\n",
    "    #     print()\n",
    "    #     return train(_i, _M=_M)\n",
    "\n",
    "    # print()\n",
    "    return False\n",
    "\n",
    "\n",
    "def train_all(_M=10):\n",
    "    for _ in range(T):\n",
    "        _res = train(T - _ - 1, _M=_M)\n",
    "        while _res:\n",
    "            _res = train(T - _ - 1, _M=_M)\n",
    "\n",
    "\n",
    "# A = np.zeros((T, A_SIZE))\n",
    "# J = np.inf\n",
    "#print(load())\n",
    "#A,_ = load()\n",
    "#save(A,218)\n",
    "#print(load())\n",
    "\n",
    "# save(A, J)\n",
    "#print(load())\n",
    "while True:\n",
    "    train_all(_M=64)"
   ]
  },
  {
   "cell_type": "code",
   "execution_count": 125,
   "metadata": {
    "ExecuteTime": {
     "end_time": "2021-03-29T06:49:22.008126Z",
     "start_time": "2021-03-29T06:49:21.969546Z"
    }
   },
   "outputs": [
    {
     "name": "stdout",
     "output_type": "stream",
     "text": [
      "<class 'pandas.core.frame.DataFrame'>\n",
      "RangeIndex: 105782 entries, 0 to 105781\n",
      "Data columns (total 4 columns):\n",
      " #   Column  Non-Null Count   Dtype  \n",
      "---  ------  --------------   -----  \n",
      " 0   Trader  105782 non-null  object \n",
      " 1   P0      105782 non-null  float64\n",
      " 2   P1      105782 non-null  float64\n",
      " 3   S       105782 non-null  float64\n",
      "dtypes: float64(3), object(1)\n",
      "memory usage: 3.2+ MB\n"
     ]
    }
   ],
   "source": [
    "X_0['S'] = 0.0\n",
    "X_0['P0'] = X_e[:, 0]\n",
    "X_0['P1'] = X_e[:, 1]\n",
    "X_2 = X_0[['Trader', 'P0', 'P1', 'S']]\n",
    "X_2.info()"
   ]
  },
  {
   "cell_type": "code",
   "execution_count": 131,
   "metadata": {
    "ExecuteTime": {
     "end_time": "2021-03-29T13:49:36.942309Z",
     "start_time": "2021-03-29T13:49:36.900572Z"
    }
   },
   "outputs": [
    {
     "data": {
      "text/plain": [
       "(105782,)"
      ]
     },
     "execution_count": 131,
     "metadata": {},
     "output_type": "execute_result"
    }
   ],
   "source": [
    "y_true = np.array([y_0_dict[_t] for _t in X_0['Trader']])\n",
    "y_true.shape"
   ]
  },
  {
   "cell_type": "code",
   "execution_count": 132,
   "metadata": {
    "ExecuteTime": {
     "end_time": "2021-03-29T13:50:19.084650Z",
     "start_time": "2021-03-29T13:50:19.067517Z"
    }
   },
   "outputs": [
    {
     "data": {
      "text/plain": [
       "(105782, 2)"
      ]
     },
     "execution_count": 132,
     "metadata": {},
     "output_type": "execute_result"
    }
   ],
   "source": [
    "X_3 = X_0[['P0', 'P1']]\n",
    "X_3.shape"
   ]
  },
  {
   "cell_type": "code",
   "execution_count": 152,
   "metadata": {
    "ExecuteTime": {
     "end_time": "2021-03-29T15:56:37.909496Z",
     "start_time": "2021-03-29T15:56:37.883387Z"
    }
   },
   "outputs": [
    {
     "name": "stdout",
     "output_type": "stream",
     "text": [
      "<class 'pandas.core.frame.DataFrame'>\n",
      "RangeIndex: 105782 entries, 0 to 105781\n",
      "Data columns (total 3 columns):\n",
      " #   Column  Non-Null Count   Dtype  \n",
      "---  ------  --------------   -----  \n",
      " 0   Trader  105782 non-null  object \n",
      " 1   P0      105782 non-null  float64\n",
      " 2   P1      105782 non-null  float64\n",
      "dtypes: float64(2), object(1)\n",
      "memory usage: 2.4+ MB\n"
     ]
    }
   ],
   "source": [
    "X_all = X_0[['Trader', 'P0', 'P1']]\n",
    "X_all.shape\n",
    "X_all.info()\n",
    "save(X_all, 'X_all.p')"
   ]
  },
  {
   "cell_type": "code",
   "execution_count": 133,
   "metadata": {
    "ExecuteTime": {
     "end_time": "2021-03-29T13:52:14.248050Z",
     "start_time": "2021-03-29T13:52:14.166364Z"
    }
   },
   "outputs": [],
   "source": [
    "from sklearn.linear_model import SGDClassifier\n",
    "from sklearn import svm\n",
    "from sklearn import tree\n",
    "from sklearn.model_selection import train_test_split"
   ]
  },
  {
   "cell_type": "code",
   "execution_count": 134,
   "metadata": {
    "ExecuteTime": {
     "end_time": "2021-03-29T13:53:10.604709Z",
     "start_time": "2021-03-29T13:53:10.588149Z"
    }
   },
   "outputs": [],
   "source": [
    "save(X_3, 'X_3.p')\n",
    "save(y_true, 'y_true.p')"
   ]
  },
  {
   "cell_type": "code",
   "execution_count": 150,
   "metadata": {
    "ExecuteTime": {
     "end_time": "2021-03-29T15:55:05.381674Z",
     "start_time": "2021-03-29T15:55:05.357082Z"
    }
   },
   "outputs": [
    {
     "name": "stdout",
     "output_type": "stream",
     "text": [
      "<class 'pandas.core.frame.DataFrame'>\n",
      "RangeIndex: 105782 entries, 0 to 105781\n",
      "Data columns (total 2 columns):\n",
      " #   Column  Non-Null Count   Dtype  \n",
      "---  ------  --------------   -----  \n",
      " 0   P0      105782 non-null  float64\n",
      " 1   P1      105782 non-null  float64\n",
      "dtypes: float64(2)\n",
      "memory usage: 1.6 MB\n"
     ]
    }
   ],
   "source": [
    "X_3.info()"
   ]
  },
  {
   "cell_type": "code",
   "execution_count": 136,
   "metadata": {
    "ExecuteTime": {
     "end_time": "2021-03-29T13:56:22.435174Z",
     "start_time": "2021-03-29T13:56:22.430804Z"
    }
   },
   "outputs": [],
   "source": [
    "from sklearn import metrics"
   ]
  },
  {
   "cell_type": "code",
   "execution_count": 144,
   "metadata": {
    "ExecuteTime": {
     "end_time": "2021-03-29T13:56:30.875054Z",
     "start_time": "2021-03-29T13:56:30.640477Z"
    }
   },
   "outputs": [
    {
     "data": {
      "text/plain": [
       "0.5635733417362534"
      ]
     },
     "execution_count": 144,
     "metadata": {},
     "output_type": "execute_result"
    }
   ],
   "source": [
    "X = load('X_3.p')\n",
    "Y = load('y_true.p')\n",
    "ratio = 0.3\n",
    "X_train, X_test, Y_train, Y_test = train_test_split(X, Y, test_size=ratio)\n",
    "sgd_regressor = SGDClassifier().fit(X_train, Y_train)\n",
    "_pred = sgd_regressor.predict(X_test)\n",
    "metrics.f1_score(Y_test, _pred, average=\"micro\")"
   ]
  },
  {
   "cell_type": "code",
   "execution_count": 162,
   "metadata": {
    "ExecuteTime": {
     "end_time": "2021-03-29T16:21:32.751165Z",
     "start_time": "2021-03-29T16:21:32.732447Z"
    }
   },
   "outputs": [
    {
     "data": {
      "text/plain": [
       "[           Trader        P0        P1\n",
       " 99335  Trader_451 -0.455565  0.094534\n",
       " 62672  Trader_312  0.392256 -0.028008\n",
       " 33976  Trader_209 -0.476229  0.379379\n",
       " 83794  Trader_386 -0.752198  0.139296\n",
       " 66357  Trader_329 -0.736015  0.148712\n",
       " ...           ...       ...       ...\n",
       " 71193  Trader_341 -0.698491  0.118470\n",
       " 4340   Trader_114  0.230637  0.002344\n",
       " 13170  Trader_161  0.352001  0.031165\n",
       " 24792  Trader_177  0.344584 -0.600848\n",
       " 41705  Trader_226 -0.366297  0.006961\n",
       " \n",
       " [74047 rows x 3 columns],\n",
       "             Trader        P0        P1\n",
       " 94311   Trader_431 -0.064794  0.088989\n",
       " 36215   Trader_209 -0.667324  0.590488\n",
       " 38862   Trader_209 -0.504229  0.410523\n",
       " 46223   Trader_241 -0.600306  0.127626\n",
       " 53273   Trader_264 -0.378127  0.192728\n",
       " ...            ...       ...       ...\n",
       " 102729   Trader_46 -0.440097  0.024970\n",
       " 17713   Trader_161  0.235201  0.148019\n",
       " 10703   Trader_136 -0.665097  0.319963\n",
       " 27029   Trader_195  0.379217  0.034151\n",
       " 104805  Trader_461 -0.837137  0.288872\n",
       " \n",
       " [31735 rows x 3 columns]]"
      ]
     },
     "execution_count": 162,
     "metadata": {},
     "output_type": "execute_result"
    }
   ],
   "source": [
    "train_test_split(X_all, test_size=ratio)"
   ]
  },
  {
   "cell_type": "code",
   "execution_count": 7,
   "metadata": {
    "ExecuteTime": {
     "end_time": "2020-12-10T22:36:24.745378Z",
     "start_time": "2020-12-10T22:36:23.972869Z"
    }
   },
   "outputs": [
    {
     "data": {
      "text/plain": [
       "142.93686102516347"
      ]
     },
     "execution_count": 7,
     "metadata": {},
     "output_type": "execute_result"
    }
   ],
   "source": [
    "from sklearn import svm\n",
    "\n",
    "X, Y = load('data_all.p')\n",
    "X_train, X_test, Y_train, Y_test = train_test_split(X, Y, test_size=ratio)\n",
    "Y_train_new = normalize(Y_train)\n",
    "svm_regressor = svm.LinearSVC(dual=False,\n",
    "                              loss='squared_epsilon_insensitive').fit(\n",
    "                                  X_train, Y_train)\n",
    "_pred = rebuild(svm_regressor.predict(X_test))\n",
    "MAE(_pred, Y_test)"
   ]
  },
  {
   "cell_type": "code",
   "execution_count": 8,
   "metadata": {
    "ExecuteTime": {
     "end_time": "2020-12-10T22:36:24.990457Z",
     "start_time": "2020-12-10T22:36:24.747312Z"
    }
   },
   "outputs": [
    {
     "name": "stdout",
     "output_type": "stream",
     "text": [
      "149.32824656793537\n",
      "144.91577798471968\n"
     ]
    }
   ],
   "source": [
    "X, Y = load('data_all.p')\n",
    "X_train, X_test, Y_train, Y_test = train_test_split(X, Y, test_size=ratio)\n",
    "_pred_sgd = rebuild(sgd_regressor.predict(X_test))\n",
    "_pred_svm = rebuild(svm_regressor.predict(X_test))\n",
    "print(MAE(_pred_sgd, Y_test))\n",
    "print(MAE(_pred_svm, Y_test))"
   ]
  },
  {
   "cell_type": "code",
   "execution_count": 9,
   "metadata": {
    "ExecuteTime": {
     "end_time": "2020-12-10T22:36:29.343692Z",
     "start_time": "2020-12-10T22:36:24.994332Z"
    }
   },
   "outputs": [],
   "source": [
    "import csv\n",
    "\n",
    "X = load('eval.p')\n",
    "_pred = rebuild(sgd_regressor.predict(X))\n",
    "\n",
    "eval_data = pd.read_csv('data/evaluation.csv')\n",
    "df = pd.read_csv('data/evaluation.csv')\n",
    "\n",
    "with open(\"non_deep_predictions.txt\", 'w') as f:\n",
    "    writer = csv.writer(f)\n",
    "    writer.writerow([\"TweetID\", \"NoRetweets\"])\n",
    "    for index, prediction in enumerate(_pred):\n",
    "        writer.writerow([str(df['id'].iloc[index]), str(int(prediction))])"
   ]
  },
  {
   "cell_type": "code",
   "execution_count": 10,
   "metadata": {
    "ExecuteTime": {
     "end_time": "2020-12-10T22:36:30.683916Z",
     "start_time": "2020-12-10T22:36:29.344962Z"
    }
   },
   "outputs": [
    {
     "data": {
      "image/png": "[encoded data removed]",
      "text/plain": [
       "<Figure size 432x288 with 1 Axes>"
      ]
     },
     "metadata": {
      "needs_background": "light"
     },
     "output_type": "display_data"
    }
   ],
   "source": [
    "import matplotlib.pyplot as plt\n",
    "\n",
    "x = [\n",
    "    u'Neural network', u'SGD without regularization', u'K-nn',\n",
    "    u'SGD log scale', u'SVM log scale'\n",
    "]\n",
    "y = [157.84383, 203.98451, 190.8657, 170.43795, 160.69885]\n",
    "\n",
    "fig, ax = plt.subplots()\n",
    "width = 0.5  # the width of the bars\n",
    "ind = np.arange(len(y))  # the x locations for the groups\n",
    "ax.barh(ind, y, width)\n",
    "for i, v in enumerate(y):\n",
    "    ax.text(10, i - width / 5, f\"{v:02f}\")\n",
    "ax.set_yticks(ind)\n",
    "ax.set_yticklabels(x, minor=False)\n",
    "# plt.title('title')\n",
    "# plt.xlabel('x')\n",
    "# plt.ylabel('y')\n",
    "plt.savefig('MAE.png', dpi=300, format='png', bbox_inches='tight')\n",
    "plt.show()"
   ]
  },
  {
   "cell_type": "code",
   "execution_count": 21,
   "metadata": {
    "ExecuteTime": {
     "end_time": "2020-12-13T18:56:03.130440Z",
     "start_time": "2020-12-13T18:56:02.308888Z"
    }
   },
   "outputs": [
    {
     "data": {
      "image/png": "[encoded data removed]",
      "text/plain": [
       "<Figure size 432x288 with 1 Axes>"
      ]
     },
     "metadata": {
      "needs_background": "light"
     },
     "output_type": "display_data"
    }
   ],
   "source": [
    "X, Y = load('data_all.p')\n",
    "fig, ax = plt.subplots()\n",
    "ax.hist(Y, bins=20)\n",
    "plt.title('Retweet number histogram')\n",
    "plt.yscale('log', nonpositive='clip')\n",
    "plt.savefig('RNH.png', dpi=300, format='png')\n",
    "plt.show()"
   ]
  },
  {
   "cell_type": "code",
   "execution_count": 24,
   "metadata": {
    "ExecuteTime": {
     "end_time": "2020-12-13T19:00:41.079771Z",
     "start_time": "2020-12-13T19:00:40.349040Z"
    }
   },
   "outputs": [
    {
     "data": {
      "image/png": "[encoded data removed]",
      "text/plain": [
       "<Figure size 432x288 with 1 Axes>"
      ]
     },
     "metadata": {
      "needs_background": "light"
     },
     "output_type": "display_data"
    }
   ],
   "source": [
    "fig, ax = plt.subplots()\n",
    "ax.hist(np.log(Y + 1), bins=20)\n",
    "plt.title('Retweet number histogram in log scale')\n",
    "plt.yscale('log', nonpositive='clip')\n",
    "plt.savefig('RNHlog.png', dpi=300, format='png')\n",
    "plt.show()"
   ]
  },
  {
   "cell_type": "code",
   "execution_count": 4,
   "metadata": {
    "ExecuteTime": {
     "end_time": "2020-12-13T23:48:11.979730Z",
     "start_time": "2020-12-13T23:48:11.963684Z"
    }
   },
   "outputs": [],
   "source": [
    "def split(_X, _Y, _classes=list(range(6))):\n",
    "    _Y_new = np.array(normalize(_Y))\n",
    "    _new = []\n",
    "    _len = []\n",
    "    _n_s = len(_X)\n",
    "    _n_f = len(_X[0])\n",
    "    for k in _classes:\n",
    "        if k == _classes[-1]:\n",
    "            _new_k = [\n",
    "                np.append(_X[i], k) for i in range(_n_s) if _Y_new[i] >= k\n",
    "            ]\n",
    "        else:\n",
    "            _new_k = [\n",
    "                np.append(_X[i], k) for i in range(_n_s) if _Y_new[i] == k\n",
    "            ]\n",
    "        _new.append(_new_k)\n",
    "        _len.append(len(_new_k))\n",
    "    _size = np.min(_len)\n",
    "    print(_size)\n",
    "    _data = []\n",
    "\n",
    "    for k in _classes:\n",
    "        _idx = np.random.randint(_len[k], size=_size)\n",
    "        _new_k = np.array(_new[k])[_idx, :]\n",
    "        _data.append(_new_k)\n",
    "\n",
    "    _data = np.array(_data).reshape((_size * len(_classes), _n_f + 1))\n",
    "    return _data[:, :-1], _data[:, -1].astype(int)"
   ]
  },
  {
   "cell_type": "code",
   "execution_count": 6,
   "metadata": {
    "ExecuteTime": {
     "end_time": "2020-12-13T23:52:56.302101Z",
     "start_time": "2020-12-13T23:52:51.618639Z"
    }
   },
   "outputs": [
    {
     "name": "stdout",
     "output_type": "stream",
     "text": [
      "15368\n"
     ]
    }
   ],
   "source": [
    "X, Y = load('data_all.p')\n",
    "ratio = 0.3\n",
    "X_train, X_test, Y_train, Y_test = train_test_split(X, Y, test_size=ratio)\n",
    "X_train_new, Y_train_new = split(X_train, Y_train)\n",
    "dt_regressor = tree.DecisionTreeRegressor().fit(X_train_new, Y_train_new)"
   ]
  },
  {
   "cell_type": "code",
   "execution_count": 7,
   "metadata": {
    "ExecuteTime": {
     "end_time": "2020-12-13T23:53:15.369195Z",
     "start_time": "2020-12-13T23:53:15.284732Z"
    }
   },
   "outputs": [
    {
     "data": {
      "text/plain": [
       "159.3953908698569"
      ]
     },
     "execution_count": 7,
     "metadata": {},
     "output_type": "execute_result"
    }
   ],
   "source": [
    "_pred = rebuild(dt_regressor.predict(X_test))\n",
    "MAE(_pred, Y_test)"
   ]
  },
  {
   "cell_type": "code",
   "execution_count": 10,
   "metadata": {
    "ExecuteTime": {
     "end_time": "2020-12-13T21:17:40.923128Z",
     "start_time": "2020-12-13T21:17:40.495394Z"
    }
   },
   "outputs": [
    {
     "data": {
      "text/plain": [
       "155.1950494157229"
      ]
     },
     "execution_count": 10,
     "metadata": {},
     "output_type": "execute_result"
    }
   ],
   "source": [
    "svm_regressor = svm.LinearSVC(dual=False).fit(X_train_new, Y_train_new)\n",
    "_pred = rebuild(svm_regressor.predict(X_test))\n",
    "MAE(_pred, Y_test)"
   ]
  },
  {
   "cell_type": "code",
   "execution_count": 27,
   "metadata": {
    "ExecuteTime": {
     "end_time": "2020-12-14T00:03:03.194955Z",
     "start_time": "2020-12-14T00:03:03.186508Z"
    }
   },
   "outputs": [],
   "source": [
    "def acc(_pred, _true, _classes):\n",
    "    _test = np.array(normalize(_true))\n",
    "    for _ in range(len(_test)):\n",
    "        if _test[_] >= _classes[-1]:\n",
    "            _test[_] = _classes[-1]\n",
    "\n",
    "    return accuracy_score(_pred, _test)"
   ]
  },
  {
   "cell_type": "code",
   "execution_count": 52,
   "metadata": {
    "ExecuteTime": {
     "end_time": "2020-12-14T07:07:30.554697Z",
     "start_time": "2020-12-14T07:07:30.395573Z"
    }
   },
   "outputs": [],
   "source": [
    "X, Y = load('data_all.p')\n",
    "ratio = 0.7\n",
    "X_train, X_test, Y_train, Y_test = train_test_split(X, Y, test_size=ratio)"
   ]
  },
  {
   "cell_type": "code",
   "execution_count": 78,
   "metadata": {
    "ExecuteTime": {
     "end_time": "2020-12-14T07:21:30.733196Z",
     "start_time": "2020-12-14T07:21:27.917642Z"
    }
   },
   "outputs": [
    {
     "name": "stdout",
     "output_type": "stream",
     "text": [
      "3085\n",
      "202.80681866948186 0.7497897194256337\n",
      "162.35717013844186 0.7364047171511703\n",
      "163.19628189613 0.7086240784131971\n"
     ]
    }
   ],
   "source": [
    "classes = list(range(8))\n",
    "X_train_new, Y_train_new = split(X_train, Y_train, classes)\n",
    "\n",
    "sgd_regressor = SGDClassifier().fit(X_train_new, Y_train_new)\n",
    "svm_regressor = svm.LinearSVC(dual=False).fit(X_train_new, Y_train_new)\n",
    "dt_regressor = tree.DecisionTreeClassifier(max_depth=5).fit(\n",
    "    X_train_new, Y_train_new)\n",
    "\n",
    "_pred_raw_svm = svm_regressor.predict(X_test)\n",
    "_pred_svm = rebuild(_pred_raw_svm)\n",
    "print(MAE(_pred_svm, Y_test), acc(_pred_raw_svm, Y_test, classes))\n",
    "\n",
    "_pred_raw_dt = dt_regressor.predict(X_test)\n",
    "_pred_dt = rebuild(_pred_raw_dt)\n",
    "print(MAE(_pred_dt, Y_test), acc(_pred_raw_dt, Y_test, classes))\n",
    "\n",
    "_pred_raw_sgd = sgd_regressor.predict(X_test)\n",
    "_pred_sgd = rebuild(_pred_raw_sgd)\n",
    "print(MAE(_pred_sgd, Y_test), acc(_pred_raw_sgd, Y_test, classes))"
   ]
  },
  {
   "cell_type": "code",
   "execution_count": 89,
   "metadata": {
    "ExecuteTime": {
     "end_time": "2020-12-14T07:28:10.915100Z",
     "start_time": "2020-12-14T07:28:09.989387Z"
    }
   },
   "outputs": [
    {
     "name": "stdout",
     "output_type": "stream",
     "text": [
      "273.12452426905605\n",
      "231.88195839496643\n",
      "247.80394757388274\n"
     ]
    }
   ],
   "source": [
    "sgd_regressor = SGDRegressor().fit(X_train, Y_train)\n",
    "svm_regressor = svm.LinearSVR(dual=False,\n",
    "                              loss='squared_epsilon_insensitive').fit(\n",
    "                                  X_train, Y_train)\n",
    "dt_regressor = tree.DecisionTreeRegressor(max_depth=5).fit(X_train, Y_train)\n",
    "\n",
    "_pred_raw_svm = svm_regressor.predict(X_test)\n",
    "print(MAE(_pred_raw_svm, Y_test))\n",
    "\n",
    "_pred_raw_dt = dt_regressor.predict(X_test)\n",
    "print(MAE(_pred_raw_dt, Y_test))\n",
    "\n",
    "_pred_raw_sgd = sgd_regressor.predict(X_test)\n",
    "print(MAE(_pred_raw_sgd, Y_test))"
   ]
  },
  {
   "cell_type": "code",
   "execution_count": 90,
   "metadata": {
    "ExecuteTime": {
     "end_time": "2020-12-14T07:28:48.255658Z",
     "start_time": "2020-12-14T07:28:48.238216Z"
    }
   },
   "outputs": [],
   "source": [
    "k = [2, 3, 4, 5, 6, 7, 8]\n",
    "MAE = [\n",
    "    [148.06540584150852, 148.06477929122573, 148.06518268661327],\n",
    "    [147.78927311584314, 147.71758889718566, 147.8738230724996],\n",
    "    [147.51969985666588, 147.41857206615686, 147.59172524482668],\n",
    "    [148.03661027714122, 147.47420629811776, 148.08812687214083],\n",
    "    [151.66737046287474, 149.1159482795616, 149.96307430199724],\n",
    "    [166.60576898318612, 154.81499815468067, 154.34414990859233],\n",
    "    [202.96594098411308, 162.35717013844186, 163.19628189613],\n",
    "    [273.12452426905605, 231.88195839496643, 247.80394757388274],\n",
    "]\n",
    "\n",
    "ACC = [\n",
    "    [0.9750002145720147, 0.9754014642394281, 0.975109646299491],\n",
    "    [0.8472590570847388, 0.8691475483001605, 0.8310009355339839],\n",
    "    [0.8087927320167194, 0.8149209087553965, 0.8120198951171992],\n",
    "    [0.7853378650942829, 0.7901142381406048, 0.7588575327651467],\n",
    "    [0.7711889864476316, 0.7574349203079538, 0.7352031138690768],\n",
    "    [0.7609260069864648, 0.7491095261391628, 0.6984812592802396],\n",
    "    [0.7548021216880809, 0.7364047171511703, 0.7051244088540997],\n",
    "]"
   ]
  },
  {
   "cell_type": "code",
   "execution_count": 91,
   "metadata": {
    "ExecuteTime": {
     "end_time": "2020-12-14T07:31:55.193134Z",
     "start_time": "2020-12-14T07:31:55.190575Z"
    }
   },
   "outputs": [],
   "source": [
    "MAE = np.array(MAE)\n",
    "ACC = np.array(ACC)"
   ]
  },
  {
   "cell_type": "code",
   "execution_count": 106,
   "metadata": {
    "ExecuteTime": {
     "end_time": "2020-12-14T07:40:27.873455Z",
     "start_time": "2020-12-14T07:40:27.492783Z"
    }
   },
   "outputs": [
    {
     "data": {
      "image/png": "[encoded data removed]",
      "text/plain": [
       "<Figure size 432x288 with 1 Axes>"
      ]
     },
     "metadata": {
      "needs_background": "light"
     },
     "output_type": "display_data"
    }
   ],
   "source": [
    "fig, ax = plt.subplots()\n",
    "x = np.arange(len(k) + 1)\n",
    "labels = k + [np.inf]\n",
    "width = 0.2\n",
    "rects1 = ax.bar(x - width, MAE[:, 0], width, label='LinearSVM')\n",
    "rects2 = ax.bar(x, MAE[:, 1], width, label='DecisionTree')\n",
    "rects3 = ax.bar(x + width, MAE[:, 2], width, label='SGD')\n",
    "ax.set_ylabel('MAE')\n",
    "ax.set_title('MAE Comparison')\n",
    "ax.set_xticks(x)\n",
    "ax.set_xticklabels(labels)\n",
    "ax.set_xlabel('Number of classes')\n",
    "ax.legend()\n",
    "fig.tight_layout()\n",
    "plt.savefig('MAE-classes.png', dpi=300, format='png')\n",
    "\n",
    "plt.show()"
   ]
  },
  {
   "cell_type": "code",
   "execution_count": 107,
   "metadata": {
    "ExecuteTime": {
     "end_time": "2020-12-14T07:47:23.849166Z",
     "start_time": "2020-12-14T07:47:23.479925Z"
    }
   },
   "outputs": [
    {
     "data": {
      "image/png": "[encoded data removed]",
      "text/plain": [
       "<Figure size 432x288 with 1 Axes>"
      ]
     },
     "metadata": {
      "needs_background": "light"
     },
     "output_type": "display_data"
    }
   ],
   "source": [
    "fig, ax = plt.subplots()\n",
    "x = np.arange(len(k))\n",
    "labels = k\n",
    "width = 0.2\n",
    "rects1 = ax.bar(x - width, ACC[:, 0], width, label='LinearSVM')\n",
    "rects2 = ax.bar(x, ACC[:, 1], width, label='DecisionTree')\n",
    "rects3 = ax.bar(x + width, ACC[:, 2], width, label='SGD')\n",
    "ax.set_ylabel('Accuracy')\n",
    "ax.set_title('Accuracy Comparison')\n",
    "ax.set_xticks(x)\n",
    "ax.set_xticklabels(labels)\n",
    "ax.set_xlabel('Number of classes')\n",
    "ax.legend()\n",
    "fig.tight_layout()\n",
    "plt.savefig('ACC-classes.png', dpi=300, format='png')\n",
    "\n",
    "plt.show()"
   ]
  }
 ],
 "metadata": {
  "kernelspec": {
   "display_name": "Python 3 (ipykernel)",
   "language": "python",
   "name": "python3"
  },
  "language_info": {
   "codemirror_mode": {
    "name": "ipython",
    "version": 3
   },
   "file_extension": ".py",
   "mimetype": "text/x-python",
   "name": "python",
   "nbconvert_exporter": "python",
   "pygments_lexer": "ipython3",
   "version": "3.8.12"
  }
 },
 "nbformat": 4,
 "nbformat_minor": 4
}
